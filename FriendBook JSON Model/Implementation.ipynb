{
 "cells": [
  {
   "cell_type": "code",
   "execution_count": 6,
   "id": "c46ea9c2-4f91-47fc-af01-6fd06bc14322",
   "metadata": {},
   "outputs": [],
   "source": [
    "import json"
   ]
  },
  {
   "cell_type": "code",
   "execution_count": 7,
   "id": "d1e9561f-92d7-499e-863f-a974385577f5",
   "metadata": {},
   "outputs": [],
   "source": [
    "#write the universal function to load the data\n",
    "\n",
    "def load_data(filename):\n",
    "    with open (filename , \"r\") as f:\n",
    "        data = json.load(f)\n",
    "    return data \n",
    "    "
   ]
  },
  {
   "cell_type": "code",
   "execution_count": 8,
   "id": "ebd71da2-fffb-43f7-9a1e-576641962cb4",
   "metadata": {},
   "outputs": [],
   "source": [
    "#check data is loading or not \n",
    "data = load_data(\"data.json\")\n"
   ]
  },
  {
   "cell_type": "code",
   "execution_count": 10,
   "id": "30870b58-834b-4cb3-be93-0ea59b482094",
   "metadata": {},
   "outputs": [
    {
     "data": {
      "text/plain": [
       "{'users': [{'id': 1, 'name': 'Amit', 'friends': [2, 3], 'liked_pages': [101]},\n",
       "  {'id': 2, 'name': 'Priya', 'friends': [1, 4], 'liked_pages': [102]},\n",
       "  {'id': 3, 'name': 'Rahul', 'friends': [1], 'liked_pages': [101, 103]},\n",
       "  {'id': 4, 'name': 'Sara', 'friends': [2], 'liked_pages': [104]}],\n",
       " 'pages': [{'id': 101, 'name': 'Python Developers'},\n",
       "  {'id': 102, 'name': 'Data Science Enthusiasts'},\n",
       "  {'id': 103, 'name': 'AI & ML Community'},\n",
       "  {'id': 104, 'name': 'Web Dev Hub'}]}"
      ]
     },
     "execution_count": 10,
     "metadata": {},
     "output_type": "execute_result"
    }
   ],
   "source": [
    "data"
   ]
  },
  {
   "cell_type": "code",
   "execution_count": 14,
   "id": "ace0416a-53fc-4ed2-96f4-bdedc1816cd2",
   "metadata": {},
   "outputs": [
    {
     "data": {
      "text/plain": [
       "dict"
      ]
     },
     "execution_count": 14,
     "metadata": {},
     "output_type": "execute_result"
    }
   ],
   "source": [
    "type(data)\n"
   ]
  },
  {
   "cell_type": "code",
   "execution_count": 61,
   "id": "f2a8eaff-60e9-415f-b4d3-04e7c5bebc77",
   "metadata": {},
   "outputs": [],
   "source": [
    "#write a function to display users and their connections\n",
    "def display_users(data):\n",
    "    for user in data[\"users\"]:\n",
    "         print(f\"Name:id_{user['id']} - {user['name']} and friends with {user['friends']} and likes pages{user['liked_pages']}\")\n",
    "        "
   ]
  },
  {
   "cell_type": "code",
   "execution_count": 62,
   "id": "a51ac22e-0d7b-4f01-9994-6f6a84846c5a",
   "metadata": {},
   "outputs": [
    {
     "name": "stdout",
     "output_type": "stream",
     "text": [
      "Name:id_1 - Amit and friends with [2, 3] and likes pages[101]\n",
      "Name:id_2 - Priya and friends with [1, 4] and likes pages[102]\n",
      "Name:id_3 - Rahul and friends with [1] and likes pages[101, 103]\n",
      "Name:id_4 - Sara and friends with [2] and likes pages[104]\n"
     ]
    }
   ],
   "source": [
    "     display_users(data)\n"
   ]
  },
  {
   "cell_type": "code",
   "execution_count": 55,
   "id": "5681fbb0-b0bb-4ac6-b3cd-de2e71dd1c48",
   "metadata": {},
   "outputs": [],
   "source": [
    "def display_pages(data):\n",
    "    for page in data[\"pages\"]:\n",
    "         print(f\"Page:{page['id']} - {page['name']}\")\n",
    "        "
   ]
  },
  {
   "cell_type": "code",
   "execution_count": 56,
   "id": "9d8a432f-d7c5-4084-a822-84ae6d1a8f74",
   "metadata": {},
   "outputs": [
    {
     "name": "stdout",
     "output_type": "stream",
     "text": [
      "Page:101 - Python Developers\n",
      "Page:102 - Data Science Enthusiasts\n",
      "Page:103 - AI & ML Community\n",
      "Page:104 - Web Dev Hub\n"
     ]
    }
   ],
   "source": [
    "display_pages(data)\n"
   ]
  },
  {
   "cell_type": "code",
   "execution_count": null,
   "id": "2c1aa9fb-8410-4356-a8b9-73c24dfdfd6f",
   "metadata": {},
   "outputs": [],
   "source": []
  }
 ],
 "metadata": {
  "kernelspec": {
   "display_name": "Python 3 (ipykernel)",
   "language": "python",
   "name": "python3"
  },
  "language_info": {
   "codemirror_mode": {
    "name": "ipython",
    "version": 3
   },
   "file_extension": ".py",
   "mimetype": "text/x-python",
   "name": "python",
   "nbconvert_exporter": "python",
   "pygments_lexer": "ipython3",
   "version": "3.13.5"
  }
 },
 "nbformat": 4,
 "nbformat_minor": 5
}
