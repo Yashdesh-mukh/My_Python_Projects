{
 "cells": [
  {
   "cell_type": "code",
   "execution_count": 65,
   "id": "32a768de-b316-4930-9355-038e342cfc50",
   "metadata": {},
   "outputs": [],
   "source": [
    "import json\n",
    "\n",
    "# Load the JSON file\n",
    "def load_data(filename):\n",
    "    with open(filename, \"r\") as file:\n",
    "        data = json.load(file)\n",
    "    return data\n",
    "\n",
    "    "
   ]
  },
  {
   "cell_type": "code",
   "execution_count": 66,
   "id": "c2068d21-a3c4-45b3-807d-f631cd568472",
   "metadata": {},
   "outputs": [],
   "source": [
    "raw_data = load_data('data.json')\n"
   ]
  },
  {
   "cell_type": "code",
   "execution_count": 67,
   "id": "eda230ef-7c0f-4dfb-8ad3-c933a020c308",
   "metadata": {},
   "outputs": [
    {
     "data": {
      "text/plain": [
       "{'users': [{'id': 1, 'name': 'Amit', 'friends': [2, 3], 'liked_pages': [101]},\n",
       "  {'id': 2, 'name': 'Priya', 'friends': [1, 4], 'liked_pages': [102]},\n",
       "  {'id': 3, 'name': '', 'friends': [1], 'liked_pages': [101, 103]},\n",
       "  {'id': 4, 'name': 'Sara', 'friends': [2, 2], 'liked_pages': [104]},\n",
       "  {'id': 5, 'name': 'Amit', 'friends': [], 'liked_pages': []}],\n",
       " 'pages': [{'id': 101, 'name': 'Python Developers'},\n",
       "  {'id': 102, 'name': 'Data Science Enthusiasts'},\n",
       "  {'id': 103, 'name': 'AI & ML Community'},\n",
       "  {'id': 104, 'name': 'Web Dev Hub'},\n",
       "  {'id': 104, 'name': 'Web Development'}]}"
      ]
     },
     "execution_count": 67,
     "metadata": {},
     "output_type": "execute_result"
    }
   ],
   "source": [
    "raw_data\n"
   ]
  },
  {
   "cell_type": "code",
   "execution_count": 76,
   "id": "00933141-02a8-4494-9dc3-bc9020cfb89d",
   "metadata": {},
   "outputs": [],
   "source": [
    "def clean_data(raw_data):\n",
    "    cleaned_users = []\n",
    "    for user in raw_data['users']:\n",
    "\n",
    "        #remove users with no names or no friends or no liked pages\n",
    "        if not user['name'] or not user['friends'] or not  user['liked_pages']:\n",
    "            continue\n",
    "       \n",
    "        #remove duplicate friends \n",
    "        user['friends'] = list(set(user['friends']))\n",
    "\n",
    "        cleaned_users.append(user)  # Add cleaned user\n",
    "\n",
    "    # Replace the old users list with the cleaned one\n",
    "    raw_data['users'] = cleaned_users\n",
    "    return raw_data"
   ]
  },
  {
   "cell_type": "code",
   "execution_count": 79,
   "id": "2898264f-7a9d-452f-9eaf-96d3351df865",
   "metadata": {},
   "outputs": [],
   "source": [
    "cleaned_data = clean_data(data)\n",
    "\n"
   ]
  },
  {
   "cell_type": "code",
   "execution_count": 83,
   "id": "d1dc341a-859d-4aa3-9ee5-5276a4dae9d0",
   "metadata": {},
   "outputs": [
    {
     "data": {
      "text/plain": [
       "{'users': [{'id': 1, 'name': 'Amit', 'friends': [2, 3], 'liked_pages': [101]},\n",
       "  {'id': 2, 'name': 'Priya', 'friends': [1, 4], 'liked_pages': [102]},\n",
       "  {'id': 4, 'name': 'Sara', 'friends': [2], 'liked_pages': [104]}],\n",
       " 'pages': [{'id': 101, 'name': 'Python Developers'},\n",
       "  {'id': 102, 'name': 'Data Science Enthusiasts'},\n",
       "  {'id': 103, 'name': 'AI & ML Community'},\n",
       "  {'id': 104, 'name': 'Web Dev Hub'},\n",
       "  {'id': 104, 'name': 'Web Development'}]}"
      ]
     },
     "execution_count": 83,
     "metadata": {},
     "output_type": "execute_result"
    }
   ],
   "source": [
    "cleaned_data\n"
   ]
  },
  {
   "cell_type": "code",
   "execution_count": 84,
   "id": "46a8da34-60a9-4f7b-be29-43eb0ea12a69",
   "metadata": {},
   "outputs": [],
   "source": [
    "#load data\n",
    "def save_to_json(cleaned_data, filename='cleaned_data.json'):\n",
    "    with open(filename, 'w') as file:\n",
    "        json.dump(cleaned_data, file, indent=4)\n"
   ]
  },
  {
   "cell_type": "code",
   "execution_count": 86,
   "id": "b9ed6e2a-ed3a-4c32-a67e-eb1308f1b6ac",
   "metadata": {},
   "outputs": [],
   "source": [
    "save_to_json(cleaned_data,'cleaned_data.json')\n"
   ]
  },
  {
   "cell_type": "code",
   "execution_count": null,
   "id": "59b0767e-f3b0-4352-ba90-b37dd58427da",
   "metadata": {},
   "outputs": [],
   "source": []
  }
 ],
 "metadata": {
  "kernelspec": {
   "display_name": "Python 3 (ipykernel)",
   "language": "python",
   "name": "python3"
  },
  "language_info": {
   "codemirror_mode": {
    "name": "ipython",
    "version": 3
   },
   "file_extension": ".py",
   "mimetype": "text/x-python",
   "name": "python",
   "nbconvert_exporter": "python",
   "pygments_lexer": "ipython3",
   "version": "3.13.5"
  }
 },
 "nbformat": 4,
 "nbformat_minor": 5
}
